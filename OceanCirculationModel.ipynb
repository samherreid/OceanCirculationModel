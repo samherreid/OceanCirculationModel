{
  "cells": [
    {
      "cell_type": "code",
      "execution_count": null,
      "metadata": {},
      "outputs": [],
      "source": [
        "println(\"Hello, World!\")"
      ]
    }
  ],
  "metadata": {
    "kernelspec": {
      "display_name": "Julia",
      "language": "julia",
      "name": "julia-1.11.2"
    }
  },
  "nbformat": 4,
  "nbformat_minor": 5
}
